{
 "cells": [
  {
   "cell_type": "code",
   "execution_count": 1,
   "metadata": {},
   "outputs": [],
   "source": [
    "%defaultDatasource jdbc:h2:mem:db"
   ]
  },
  {
   "cell_type": "code",
   "execution_count": 2,
   "metadata": {},
   "outputs": [],
   "source": [
    "DROP TABLE IF EXISTS Drug;\n",
    "DROP TABLE IF EXISTS Pathology;\n",
    "DROP TABLE IF EXISTS DrugUse;\n",
    "\n",
    "CREATE TABLE Drug (\n",
    "  code INT NOT NULL,\n",
    "  name VARCHAR(200) NOT NULL,\n",
    "  PRIMARY KEY(code)\n",
    ") AS SELECT\n",
    "    code,\n",
    "    name\n",
    "FROM CSVREAD('../../../data/faers-2017/drug.csv');\n",
    "\n",
    "CREATE TABLE Pathology (\n",
    "  code INT NOT NULL,\n",
    "  name VARCHAR(200) NOT NULL,\n",
    "  PRIMARY KEY(code)\n",
    ") AS SELECT\n",
    "    code,\n",
    "    name\n",
    "FROM CSVREAD('../../../data/faers-2017/pathology.csv');\n",
    "\n",
    "CREATE TABLE DrugUse (\n",
    "  idPerson INT NOT NULL,\n",
    "  codePathology INT NOT NULL,\n",
    "  codeDrug INT NOT NULL,\n",
    "  FOREIGN KEY(codePathology)\n",
    "    REFERENCES Pathology(code)\n",
    "      ON DELETE NO ACTION\n",
    "      ON UPDATE NO ACTION,\n",
    "  FOREIGN KEY(codeDrug)\n",
    "    REFERENCES Drug(code)\n",
    "      ON DELETE NO ACTION\n",
    "      ON UPDATE NO ACTION,\n",
    ") AS SELECT\n",
    "    idPerson,\n",
    "    codePathology,\n",
    "    codeDrug\n",
    "FROM CSVREAD('../../../data/faers-2017/drug-use.csv');\n",
    "\n",
    "CREATE TABLE SideEffect(\n",
    "  idPerson INT NOT NULL,\n",
    "  codePathology INT NOT NULL,\n",
    "  FOREIGN KEY(codePathology)\n",
    "    REFERENCES Pathology(code)\n",
    "      ON DELETE NO ACTION\n",
    "      ON UPDATE NO ACTION\n",
    ") AS SELECT idPerson, codePathology\n",
    "FROM CSVREAD('../../../data/faers-2017/sideeffect.csv');"
   ]
  },
  {
   "cell_type": "code",
   "execution_count": null,
   "metadata": {},
   "outputs": [],
   "source": [
    "SELECT * FROM Drug;\n",
    "SELECT * FROM Pathology;\n",
    "SELECT * FROM DrugUse;\n",
    "SELECT * FROM SideEffect;"
   ]
  },
  {
   "cell_type": "markdown",
   "metadata": {},
   "source": [
    "# FDA Adverse Event Reporting System (FAERS)\n",
    "\n",
    "Considere a base de dados que reúne relatos de efeitos adversos de drogas: [FDA Adverse Event Reporting System (FAERS)](https://open.fda.gov/data/faers/).\n",
    "\n",
    "As fontes de dados são publicadas e documentadas em: [Latest Quarterly Data Files](https://www.fda.gov/drugs/fda-adverse-event-reporting-system-faers/fda-adverse-event-reporting-system-faers-latest-quarterly-data-files)"
   ]
  },
  {
   "cell_type": "markdown",
   "metadata": {},
   "source": [
    "# Interação entre medicamentos\n",
    "Considere como uma interação toda vez que um medicamento A é tomado em conjunto com um medicamento B por uma pessoa. Crie uma consulta que retorne para cada par de medicamento A,B o número de interações, somente para aqueles medicamentos que são tomados em conjunto mais de 30 vezes (passaremos a chamar de **grupo mais 30**)."
   ]
  },
  {
   "cell_type": "code",
   "execution_count": 3,
   "metadata": {},
   "outputs": [],
   "source": [
    "DROP TABLE IF EXISTS interacao;\n",
    "CREATE VIEW interacao AS\n",
    "    SELECT DU1.codeDrug A, DU2.codeDrug B\n",
    "    FROM DrugUse DU1, DrugUse DU2 \n",
    "    WHERE DU1.idPerson = DU2.idPerson AND DU1.codeDrug < DU2.codeDrug; \n",
    "/* eu realizei essa query utilando '<>' que é equivalente a '!=', no entanto essa query restornava o valor duplicado de cada tupla (A,B), ou seja\n",
    "retornava (A,B) e (B,A), notei que o primeiro valor era sempre menor, então decidi pegar somente o primeiro valor que aparecia, (A,B).\n",
    "*/"
   ]
  },
  {
   "cell_type": "code",
   "execution_count": 4,
   "metadata": {},
   "outputs": [],
   "source": [
    "DROP TABLE IF EXISTS numeroInteracoes;\n",
    "CREATE VIEW numeroInteracoes AS\n",
    "    SELECT A, B, COUNT(*) numeroDeInteracoes_A_B\n",
    "    FROM Interacao    \n",
    "    GROUP BY A, B;        "
   ]
  },
  {
   "cell_type": "code",
   "execution_count": null,
   "metadata": {},
   "outputs": [],
   "source": [
    "SELECT A,B, numeroDeInteracoes_A_B FROM numeroInteracoes\n",
    "WHERE numeroDeInteracoes_A_B > 30;"
   ]
  },
  {
   "cell_type": "markdown",
   "metadata": {},
   "source": [
    "## Tabela Resultante\n",
    "\n",
    "Se estiver demorando muito para gerar a tabela, você poderá usar a seguinte tabela resultante pronta. Essa tabela tem todas as interações, você ainda precisará filtrar o **grupo mais 30**."
   ]
  },
  {
   "cell_type": "code",
   "execution_count": null,
   "metadata": {},
   "outputs": [],
   "source": [
    "DROP TABLE IF EXISTS DrugInteraction;\n",
    "CREATE TABLE DrugInteraction (\n",
    "  druga INT NOT NULL,\n",
    "  drugb INT NOT NULL,\n",
    "  weight INT NOT NULL,\n",
    "  PRIMARY KEY(druga, drugb)\n",
    ") AS SELECT\n",
    "    druga,\n",
    "    drugb,\n",
    "    weight\n",
    "FROM CSVREAD('../../../data/faers-2017/results/drug-interaction.csv');\n",
    "\n",
    "SELECT * FROM DrugInteraction;"
   ]
  },
  {
   "cell_type": "markdown",
   "metadata": {},
   "source": [
    "# Suporte\n",
    "\n",
    "### Qual o suporte que cada uma das associações tem?\n",
    "\n",
    "Gere uma consulta que apresente o suporte do **grupo mais 30**. Ordene o resultado por ordem de suporte. \n",
    "\n",
    "Observação: Para que o resultado da divisão seja fracionária, converta o numerador em `DOUBLE` usando:\n",
    "~~~sql\n",
    "CAST(campo AS DOUBLE)\n",
    "~~~"
   ]
  },
  {
   "cell_type": "code",
   "execution_count": null,
   "metadata": {},
   "outputs": [],
   "source": [
    "DROP TABLE IF EXISTS TotalInteracoes;\n",
    "CREATE TABLE TotalInteracoes (\n",
    "    Total DOUBLE NOT NULL,\n",
    "    PRIMARY KEY(Total),\n",
    "    )\n",
    "    AS SELECT COUNT(druga) \n",
    "    FROM DrugInteraction;\n",
    "    \n",
    "SELECT * FROM totalInteracoes; /* Numero total de interações registradas 9073.0*/\n",
    "\n",
    "SELECT DrugA, DrugB, ((weight)/(CAST (total AS DOUBLE))) \n",
    "AS Suporte \n",
    "FROM DrugInteraction, TotalInteracoes\n",
    "WHERE weight > 30\n",
    "ORDER BY Suporte;"
   ]
  },
  {
   "cell_type": "markdown",
   "metadata": {},
   "source": [
    "# Confiança\n",
    "\n",
    "### Qual a confiança que cada uma das associações tem?\n",
    "\n",
    "Gere uma consulta que apresente a confiança do **grupo mais 30**. Ordene o resultado por ordem de confiança."
   ]
  },
  {
   "cell_type": "code",
   "execution_count": null,
   "metadata": {},
   "outputs": [],
   "source": [
    "CREATE VIEW GrupoMais30 AS \n",
    "SELECT * \n",
    "FROM DrugInteraction \n",
    "WHERE weight > 30;"
   ]
  },
  {
   "cell_type": "code",
   "execution_count": null,
   "metadata": {},
   "outputs": [],
   "source": [
    "SELECT * FROM GrupoMais30;"
   ]
  },
  {
   "cell_type": "markdown",
   "metadata": {},
   "source": [
    "### Explicação da Confiança:\n",
    "A confiança seria calculada, utiliznado a soma do Weight de uma determinada tupla, dividido pela soma do weight de todas as vezes que o antedecendente aparecesse na tabela.\n",
    "Por Exemplo, 96 -> 216, tem como weight 60, o weight total do 96 é 213, portanto a Confiação de 96 -> 216 é de 60/213 = 0.28169014084;\n",
    "\n",
    "Não consegui executar uma query de maneira que conseguisse calcular a Confiança."
   ]
  },
  {
   "cell_type": "markdown",
   "metadata": {},
   "source": [
    "# Efeito Colateral\n",
    "\n",
    "Para cada medicamento, qual o percentual do medicamento A que tem efeito colateral junto com o medicamento B, quando comparado com seu uso sem o medicamento B."
   ]
  },
  {
   "cell_type": "code",
   "execution_count": null,
   "metadata": {},
   "outputs": [],
   "source": []
  }
 ],
 "metadata": {
  "kernelspec": {
   "display_name": "SQL",
   "language": "SQL",
   "name": "sql"
  },
  "language_info": {
   "codemirror_mode": "sql",
   "file_extension": ".sql",
   "mimetype": "",
   "name": "SQL",
   "nbconverter_exporter": "",
   "version": ""
  },
  "toc": {
   "base_numbering": 1,
   "nav_menu": {},
   "number_sections": false,
   "sideBar": false,
   "skip_h1_title": false,
   "title_cell": "Table of Contents",
   "title_sidebar": "Contents",
   "toc_cell": false,
   "toc_position": {},
   "toc_section_display": false,
   "toc_window_display": false
  }
 },
 "nbformat": 4,
 "nbformat_minor": 2
}
