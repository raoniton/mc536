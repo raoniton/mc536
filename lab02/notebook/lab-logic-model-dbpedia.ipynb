{
 "cells": [
  {
   "cell_type": "markdown",
   "metadata": {},
   "source": [
    "# Acessando a DBPedia\n",
    "\n",
    "Considere a página na Wikipedia do livro [The Tin Drum](https://en.wikipedia.org/wiki/The_Tin_Drum).\n",
    "\n",
    "Há um nó equivalente na DBPedia em [The Tin Drum](http://dbpedia.org/page/The_Tin_Drum).\n",
    "\n",
    "## Carregando um nó da DBPedia\n",
    "\n",
    "A partir do que aprendemos na aula sobre APIs, é possível carregar o conteúdo em JSON desse nó da seguinte maneira:"
   ]
  },
  {
   "cell_type": "code",
   "execution_count": 1,
   "metadata": {},
   "outputs": [],
   "source": [
    "import io\n",
    "import requests\n",
    "import json\n",
    "url_drum = \"http://dbpedia.org/data/The_Tin_Drum.jsod\"\n",
    "js_drum = requests.get(url_drum)\n",
    "##print(js_drum.content.decode(\"utf-8\"))"
   ]
  },
  {
   "cell_type": "markdown",
   "metadata": {},
   "source": [
    "# Acessando e navegando pelo Grafo\n",
    "### Quem é autor de The Tin Drum?"
   ]
  },
  {
   "cell_type": "code",
   "execution_count": 10,
   "metadata": {},
   "outputs": [
    {
     "name": "stdout",
     "output_type": "stream",
     "text": [
      "Autor de The Tin Drum: http://dbpedia.org/resource/Günter_Grass\n"
     ]
    }
   ],
   "source": [
    "json_drum = js_drum.json()\n",
    "url_grass = json_drum[\"d\"][\"results\"][0][\"http://dbpedia.org/ontology/author\"][\"__deferred\"][\"uri\"]\n",
    "print(\"Autor de The Tin Drum: \" + url_grass)"
   ]
  },
  {
   "cell_type": "markdown",
   "metadata": {},
   "source": [
    "## Tarefa\n",
    "\n",
    "### Carregue o nó de Günter Grass em Python e mostre o conteúdo JSON."
   ]
  },
  {
   "cell_type": "code",
   "execution_count": 4,
   "metadata": {},
   "outputs": [
    {
     "name": "stdout",
     "output_type": "stream",
     "text": [
      "Nome do Autor:\t  Günter_Grass\n",
      "URL:\t\t  http://dbpedia.org/data/Günter_Grass.json\n",
      "\n",
      "Conteudo Json: \n",
      " {'http://dbpedia.org/resource/Denis_Diderot': {'http://dbpedia.org/ontology/influenced': [{'type': 'uri', 'value': 'http://dbpedia.org/resource/Günter_Grass'}]}, 'http://dbpedia.org/resource/John_Irving': {'http://dbpedia.org/ontology/influencedBy': [{'type': 'uri', 'value': 'http://dbpedia.org/resource/Günter_Grass'}]}, 'http://dbpedia.org/resource/Gunter_Gräss': {'http://dbpedia.org/ontology/wikiPageRedirects': [{'type': 'uri', 'value': 'http://dbpedia.org/resource/Günter_Grass'}]}, 'http://dbpedia.org/resource/Gunther_Grass': {'http://dbpedia.org/ontology/wikiPageRedirects': [{'type': 'uri', 'value': 'http://dbpedia.org/resource/Günter_Grass'}]}, 'http://dbpedia.org/resource/Günter_Wilhelm_Grass': {'http://dbpedia.org/ontology/wikiPageRedirects': [{'type': 'uri', 'value': 'http://dbpedia.org/resource/Günter_Grass'}]}, 'http://en.wikipedia.org/wiki/Günter_Grass': {'http://xmlns.com/foaf/0.1/primaryTopic': [{'type': 'uri', 'value': 'http://dbpedia.org/resource/Günter_Grass'}]}, 'http://dbpedia.org/resource/While_Skinning_an_Onion': {'http://dbpedia.org/ontology/wikiPageRedirects': [{'type': 'uri', 'value': 'http://dbpedia.org/resource/Günter_Grass'}]}, 'http://dbpedia.org/resource/Salman_Rushdie': {'http://dbpedia.org/ontology/influencedBy': [{'type': 'uri', 'value': 'http://dbpedia.org/resource/Günter_Grass'}]}, 'http://dbpedia.org/resource/Barun_Roy': {'http://dbpedia.org/ontology/influencedBy': [{'type': 'uri', 'value': 'http://dbpedia.org/resource/Günter_Grass'}]}, 'http://dbpedia.org/resource/Gunter_Wilhelm_Grass': {'http://dbpedia.org/ontology/wikiPageRedirects': [{'type': 'uri', 'value': 'http://dbpedia.org/resource/Günter_Grass'}]}, 'http://dbpedia.org/resource/Guenter_Wilhelm_Grass': {'http://dbpedia.org/ontology/wikiPageRedirects': [{'type': 'uri', 'value': 'http://dbpedia.org/resource/Günter_Grass'}]}, 'http://dbpedia.org/resource/Günter_Grass': {'http://www.w3.org/1999/02/22-rdf-syntax-ns#type': [{'type': 'uri', 'value': 'http://dbpedia.org/class/yago/WikicatGerman-languageWriters'}, {'type': 'uri', 'value': 'http://dbpedia.org/class/yago/WikicatFellowsOfTheRoyalSocietyOfLiterature'}, {'type': 'uri', 'value': 'http://www.ontologydesignpatterns.org/ont/dul/DUL.owl#Agent'}, {'type': 'uri', 'value': 'http://dbpedia.org/class/yago/Screenwriter110564400'}, {'type': 'uri', 'value': 'http://dbpedia.org/class/yago/WikicatSocialists'}, {'type': 'uri', 'value': 'http://dbpedia.org/class/yago/Scriptwriter110564905'}, {'type': 'uri', 'value': 'http://dbpedia.org/class/yago/Alumnus109786338'}, {'type': 'uri', 'value': 'http://dbpedia.org/class/yago/Citizen109923673'}, {'type': 'uri', 'value': 'http://dbpedia.org/class/yago/Laureate110249011'}, {'type': 'uri', 'value': 'http://dbpedia.org/class/yago/Intellectual109621545'}, {'type': 'uri', 'value': 'http://dbpedia.org/class/yago/National109625401'}, {'type': 'uri', 'value': 'http://dbpedia.org/class/yago/Writer110794014'}, {'type': 'uri', 'value': 'http://dbpedia.org/class/yago/Worker109632518'}, {'type': 'uri', 'value': 'http://schema.org/Person'}, {'type': 'uri', 'value': 'http://dbpedia.org/class/yago/WikicatGermanAutobiographers'}, {'type': 'uri', 'value': 'http://dbpedia.org/class/yago/WikicatGeorgBüchnerPrizeWinners'}, {'type': 'uri', 'value': 'http://dbpedia.org/class/yago/Sculptor110566072'}, {'type': 'uri', 'value': 'http://www.wikidata.org/entity/Q215627'}, {'type': 'uri', 'value': 'http://dbpedia.org/ontology/Agent'}, {'type': 'uri', 'value': 'http://dbpedia.org/class/yago/Gambler110118844'}, {'type': 'uri', 'value': 'http://dbpedia.org/class/yago/WikicatGermanSocialists'}, {'type': 'uri', 'value': 'http://dbpedia.org/class/yago/SkilledWorker110605985'}, {'type': 'uri', 'value': 'http://dbpedia.org/class/yago/Winner110782791'}, {'type': 'uri', 'value': 'http://dbpedia.org/class/yago/WikicatMagicRealismWriters'}, {'type': 'uri', 'value': 'http://dbpedia.org/class/yago/Honoree110183757'}, {'type': 'uri', 'value': 'http://dbpedia.org/ontology/Writer'}, {'type': 'uri', 'value': 'http://dbpedia.org/class/yago/PrizeWinner109627807'}, {'type': 'uri', 'value': 'http://dbpedia.org/class/yago/WikicatGermanPrintmakers'}, {'type': 'uri', 'value': 'http://www.wikidata.org/entity/Q24229398'}, {'type': 'uri', 'value': 'http://dbpedia.org/class/yago/Communicator109610660'}, {'type': 'uri', 'value': 'http://dbpedia.org/class/yago/Essayist110064405'}, {'type': 'uri', 'value': 'http://dbpedia.org/class/yago/Novelist110363573'}, {'type': 'uri', 'value': 'http://dbpedia.org/class/yago/Soldier110622053'}, {'type': 'uri', 'value': 'http://dbpedia.org/class/yago/EnlistedPerson110058777'}, {'type': 'uri', 'value': 'http://dbpedia.org/class/yago/Leader109623038'}, {'type': 'uri', 'value': 'http://dbpedia.org/class/yago/Poet110444194'}, {'type': 'uri', 'value': 'http://dbpedia.org/class/yago/Politician110450303'}, {'type': 'uri', 'value': 'http://dbpedia.org/class/yago/Wikicat20th-centuryGermanWriters'}, {'type': 'uri', 'value': 'http://dbpedia.org/class/yago/Wikicat20th-centuryNovelists'}, {'type': 'uri', 'value': 'http://umbel.org/umbel/rc/Artist'}, {'type': 'uri', 'value': 'http://www.w3.org/2002/07/owl#Thing'}, {'type': 'uri', 'value': 'http://dbpedia.org/class/yago/Artist109812338'}, {'type': 'uri', 'value': 'http://dbpedia.org/class/yago/Creator109614315'}, {'type': 'uri', 'value': 'http://dbpedia.org/class/yago/WikicatPeopleFromTheFreeCityOfDanzig'}, {'type': 'uri', 'value': 'http://dbpedia.org/class/yago/PhysicalEntity100001930'}, {'type': 'uri', 'value': 'http://dbpedia.org/class/yago/WikicatLivingPeople'}, {'type': 'uri', 'value': 'http://dbpedia.org/class/yago/Person100007846'}, {'type': 'uri', 'value': 'http://dbpedia.org/class/yago/Object100002684'}, {'type': 'uri', 'value': 'http://dbpedia.org/class/yago/Autobiographer109825296'}, {'type': 'uri', 'value': 'http://dbpedia.org/class/yago/YagoLegalActor'}, {'type': 'uri', 'value': 'http://dbpedia.org/class/yago/YagoLegalActorGeo'}, {'type': 'uri', 'value': 'http://dbpedia.org/class/yago/Biographer109855433'}, {'type': 'uri', 'value': 'http://dbpedia.org/class/yago/WikicatGermanIllustrators'}, {'type': 'uri', 'value': 'http://dbpedia.org/class/yago/Wikicat21st-centuryNovelists'}, {'type': 'uri', 'value': 'http://dbpedia.org/class/yago/Wikicat21st-centuryGermanWriters'}, {'type': 'uri', 'value': 'http://dbpedia.org/class/yago/WikicatKunstakademieDüsseldorfAlumni'}, {'type': 'uri', 'value': 'http://xmlns.com/foaf/0.1/Person'}, {'type': 'uri', 'value': 'http://dbpedia.org/class/yago/WikicatGermanSculptors'}, {'type': 'uri', 'value': 'http://dbpedia.org/class/yago/Refugee110516016'}, {'type': 'uri', 'value': 'http://dbpedia.org/class/yago/WikicatNobelLaureatesInLiterature'}, {'type': 'uri', 'value': 'http://dbpedia.org/class/yago/WikicatGerman-languagePoets'}, {'type': 'uri', 'value': 'http://dbpedia.org/class/yago/WikicatGermanEssayists'}, {'type': 'uri', 'value': 'http://dbpedia.org/class/yago/CausalAgent100007347'}, {'type': 'uri', 'value': 'http://dbpedia.org/class/yago/Whole100003553'}, {'type': 'uri', 'value': 'http://dbpedia.org/class/yago/WikicatGermanNobelLaureates'}, {'type': 'uri', 'value': 'http://dbpedia.org/class/yago/LivingThing100004258'}, {'type': 'uri', 'value': 'http://dbpedia.org/class/yago/Organism100004475'}, {'type': 'uri', 'value': 'http://dbpedia.org/class/yago/WikicatPeopleFromGdańsk'}, {'type': 'uri', 'value': 'http://dbpedia.org/ontology/Person'}, {'type': 'uri', 'value': 'http://dbpedia.org/class/yago/WikicatGermanPeopleOfPolishDescent'}, {'type': 'uri', 'value': 'http://dbpedia.org/class/yago/Acquirer109764201'}, {'type': 'uri', 'value': 'http://dbpedia.org/class/yago/Absentee109757653'}, {'type': 'uri', 'value': 'http://dbpedia.org/class/yago/Exile110071332'}, {'type': 'uri', 'value': 'http://dbpedia.org/class/yago/Recipient109627906'}, {'type': 'uri', 'value': 'http://dbpedia.org/class/yago/Illustrator109812068'}, {'type': 'uri', 'value': 'http://dbpedia.org/class/yago/WikicatWritersWhoIllustratedTheirOwnWriting'}, {'type': 'uri', 'value': 'http://umbel.org/umbel/rc/Writer'}, {'type': 'uri', 'value': 'http://dbpedia.org/class/yago/Associate109816771'}, {'type': 'uri', 'value': 'http://dbpedia.org/class/yago/Printmaker110475687'}, {'type': 'uri', 'value': 'http://dbpedia.org/class/yago/WikicatGermanArtists'}, {'type': 'uri', 'value': 'http://dbpedia.org/class/yago/Traveler109629752'}, {'type': 'uri', 'value': 'http://dbpedia.org/class/yago/Peer109626238'}, {'type': 'uri', 'value': 'http://dbpedia.org/class/yago/Colleague109935990'}, {'type': 'uri', 'value': 'http://www.wikidata.org/entity/Q5'}, {'type': 'uri', 'value': 'http://dbpedia.org/class/yago/Serviceman110582746'}, {'type': 'uri', 'value': 'http://dbpedia.org/class/yago/WikicatGermanRefugees'}, {'type': 'uri', 'value': 'http://dbpedia.org/class/yago/WikicatScreenwriters'}, {'type': 'uri', 'value': 'http://dbpedia.org/class/yago/WikicatSSSoldiers'}, {'type': 'uri', 'value': 'http://umbel.org/umbel/rc/PersonWithOccupation'}, {'type': 'uri', 'value': 'http://dbpedia.org/class/yago/WikicatGermanNovelists'}, {'type': 'uri', 'value': 'http://dbpedia.org/class/yago/WikicatGermanPoets'}, {'type': 'uri', 'value': 'http://www.wikidata.org/entity/Q36180'}, {'type': 'uri', 'value': 'http://dbpedia.org/class/yago/WikicatGermanDramatistsAndPlaywrights'}, {'type': 'uri', 'value': 'http://dbpedia.org/class/yago/WikicatWriters'}, {'type': 'uri', 'value': 'http://dbpedia.org/class/yago/WikicatGermanWriters'}, {'type': 'uri', 'value': 'http://dbpedia.org/class/yago/Scholar110557854'}, {'type': 'uri', 'value': 'http://dbpedia.org/class/yago/WikicatAutobiographers'}, {'type': 'uri', 'value': 'http://dbpedia.org/class/yago/WikicatKashubianPoets'}, {'type': 'uri', 'value': 'http://dbpedia.org/class/yago/Dramatist110030277'}, {'type': 'uri', 'value': 'http://www.ontologydesignpatterns.org/ont/dul/DUL.owl#NaturalPerson'}, {'type': 'uri', 'value': 'http://dbpedia.org/class/yago/WikicatNaturalizedCitizensOfGermany'}, {'type': 'uri', 'value': 'http://dbpedia.org/class/yago/Socialist110618848'}], 'http://www.w3.org/2000/01/rdf-schema#label': [{'type': 'literal', 'value': 'Günter Grass', 'lang': 'nl'}, {'type': 'literal', 'value': 'Günter Grass', 'lang': 'it'}, {'type': 'literal', 'value': 'Günter Grass', 'lang': 'en'}, {'type': 'literal', 'value': 'Günter Grass', 'lang': 'es'}, {'type': 'literal', 'value': 'غونتر غراس', 'lang': 'ar'}, {'type': 'literal', 'value': 'Günter Grass', 'lang': 'de'}, {'type': 'literal', 'value': 'Грасс, Гюнтер', 'lang': 'ru'}, {'type': 'literal', 'value': 'Günter Grass', 'lang': 'pl'}, {'type': 'literal', 'value': 'Günter Grass', 'lang': 'fr'}, {'type': 'literal', 'value': 'ギュンター・グラス', 'lang': 'ja'}, {'type': 'literal', 'value': '君特·格拉斯', 'lang': 'zh'}, {'type': 'literal', 'value': 'Günter Grass', 'lang': 'pt'}], 'http://www.w3.org/2000/01/rdf-schema#comment': [{'type': 'literal', 'value': 'Günter Wilhelm Grass (* 16. Oktober 1927 in Danzig-Langfuhr, Freie Stadt Danzig als Günter Wilhelm Graß; † 13. April 2015 in Lübeck) war ein deutscher Schriftsteller, Bildhauer, Maler und Grafiker. Grass gehörte seit 1957 zur Gruppe 47 und wurde mit seinem Debütroman Die Blechtrommel 1959 zu einem international geachteten Autor der deutschen Nachkriegsliteratur.', 'lang': 'de'}, {'type': 'literal', 'value': 'غونتر غراس (بالألمانية: Günter Grass) أديب ألماني (16 أكتوبر 1927 - 13 أبريل 2015) ولد في في مدينة دانتسيغ (ضمت إلى بولندا بعد الحرب العالمية الثانية). شارك غونتر غراس سنة 1944 في الحرب العالمية الثانية كمساعد في سلاح الطيران الألماني. وبعد انتهاء الحرب وقع سنة 1946 في أسر القوات الأمريكية إلى أن أطلق سراحه في نفس السنة. يعد غونتر غراس أحد أهم الأدباء الألمان في فترة ما بعد الحرب العالمية الثانية, حاز على جائزة نوبل للآداب سنة 1999.عاش آخر أيامه بالقرب من مدينة لوبيك في شمال ألمانيا.', 'lang': 'ar'}, {'type': 'literal', 'value': 'Günter Wilhelm Grass (ur. 16 października 1927 w Gdańsku, zm. 13 kwietnia 2015 w Lubece) – niemiecki pisarz narodowości niemiecko-kaszubskiej, laureat Nagrody Nobla w dziedzinie literatury w 1999 roku. Doktor honoris causa Uniwersytetu Gdańskiego (za wybitną twórczość literacką oraz wkład w polsko-niemieckie pojednanie) oraz Uniwersytetu im. Adama Mickiewicza w Poznaniu. W 1993 Rada Miasta przyznała pisarzowi tytuł Honorowego Obywatela Miasta Gdańska.', 'lang': 'pl'}, {'type': 'literal', 'value': 'Günter Wilhelm Grass (Ciudad libre de Dánzig, actual Polonia, 16 de octubre de 1927 - Lübeck, Alemania, 13 de abril de 2015) fue un escritor y artista alemán, galardonado con el Premio Nobel de Literatura y el Premio Príncipe de Asturias de las Letras, en 1999.', 'lang': 'es'}, {'type': 'literal', 'value': 'Günter Wilhelm Grass (Danzig-Langfuhr, 16 oktober 1927 – Lübeck, 13 april 2015) was een Duitse schrijver en beeldend kunstenaar van Duits-Kasjoebische afkomst. In 1999 ontving hij de Nobelprijs voor de Literatuur.', 'lang': 'nl'}, {'type': 'literal', 'value': 'ギュンター・グラス（Günter Grass, 1927年10月16日 - 2015年4月13日）は、ドイツの小説家、劇作家、版画家、彫刻家。代表作に『ブリキの太鼓』など。1999年にノーベル文学賞受賞。', 'lang': 'ja'}, {'type': 'literal', 'value': 'Günter Wilhelm Grass (German: [ˈɡʏntɐ ˈɡʁas]; 16 October 1927 – 13 April 2015) was a German novelist, poet, playwright, illustrator, graphic artist, sculptor, and recipient of the 1999 Nobel Prize in Literature.', 'lang': 'en'}, {'type': 'literal', 'value': 'Günter Wilhelm Grass (Danzig, 16 de outubro de 1927 – Lübeck, 13 de abril de 2015) foi um autor, romancista, dramaturgo, poeta, intelectual, e artista plástico alemão. Sua obra alternou a atividade literária com a escultura, enquanto participava de forma ativa da vida pública de seu país. Recebeu o Nobel de Literatura de 1999. Também é reconhecido como um dos principais representantes do teatro do absurdo da Alemanha. Seu nome é por vezes grafado Günter Graß.', 'lang': 'pt'}, {'type': 'literal', 'value': '君特·威廉·格拉斯（Günter Wilhelm Grass，1927年10月16日－2015年4月13日）是德國作家，出生於但澤自由市（今日波蘭格但斯克），也是1999年諾貝爾文學獎得主。他被廣泛的視是德國最有名的作家之一。他於1965年獲得格奧爾格·畢希納獎（Georg Büchner Prize），並於1993年被選為英國皇家文學會榮譽院士，他在1995年獲得赫爾曼·凱斯滕獎。 君特·威廉·格拉斯最著名的作品是《铁皮鼓》，它是欧洲魔幻现实主义的代表作品，也是但澤三部曲的第一部作品（另外兩部作品是《貓與老鼠》與《狗年月》）。他的作品具有浓厚的政治色彩，被視為有左翼作家，而他也是德国社会民主党的支持者。瑞典皇家科學院授予他1999年諾貝爾文學獎，認為他「以嬉戲中蘊含悲劇色彩的寓言描摹出了人類淡忘的歷史面目。」', 'lang': 'zh'}, {'type': 'literal', 'value': 'Гюнтер Грасс (нем. Günter Grass или Graß [ˈɡʏntɐ ˈɡʀas]; 16 октября 1927, Вольный город Данциг — 13 апреля 2015, Любек, Германия) — немецкий писатель, скульптор, художник, график, лауреат Нобелевской премии по литературе 1999 года.', 'lang': 'ru'}, {'type': 'literal', 'value': 'Günter Wilhelm Grass, né le 16 octobre 1927 à Danzig-Langfuhr et mort le 13 avril 2015 à Lübeck, est un écrivain et artiste allemand. Lauréat du prix Nobel de littérature en 1999, Grass est principalement connu pour son roman Le Tambour.', 'lang': 'fr'}], 'http://www.w3.org/2002/07/owl#sameAs': [{'type': 'uri', 'value': 'http://ja.dbpedia.org/resource/ギュンター・グラス'}, {'type': 'uri', 'value': 'http://pl.dbpedia.org/resource/Günter_Grass'}, {'type': 'uri', 'value': 'http://sw.cyc.com/concept/Mx4rwQtl35wpEbGdrcN5Y29ycA'}, {'type': 'uri', 'value': 'http://it.dbpedia.org/resource/Günter_Grass'}, {'type': 'uri', 'value': 'http://viaf.org/viaf/102319859'}, {'type': 'uri', 'value': 'http://dbpedia.org/resource/Günter_Grass'}, {'type': 'uri', 'value': 'http://rdf.freebase.com/ns/m.0g_xg'}, {'type': 'uri', 'value': 'http://www.wikidata.org/entity/Q6538'}, {'type': 'uri', 'value': 'http://pt.dbpedia.org/resource/Günter_Grass'}, {'type': 'uri', 'value': 'http://de.dbpedia.org/resource/Günter_Grass'}, {'type': 'uri', 'value': 'http://data.nytimes.com/46241240721110564453'}, {'type': 'uri', 'value': 'http://wikidata.dbpedia.org/resource/Q6538'}, {'type': 'uri', 'value': 'http://fr.dbpedia.org/resource/Günter_Grass'}, {'type': 'uri', 'value': 'http://yago-knowledge.org/resource/Günter_Grass'}, {'type': 'uri', 'value': 'http://cs.dbpedia.org/resource/Günter_Grass'}, {'type': 'uri', 'value': 'http://d-nb.info/gnd/118541579'}, {'type': 'uri', 'value': 'http://dbpedia.org/resource/Günter_Grass'}, {'type': 'uri', 'value': 'http://data.europa.eu/euodp/jrc-names/G%C3%BCnther_Grass'}, {'type': 'uri', 'value': 'http://el.dbpedia.org/resource/Γκύντερ_Γκρας'}, {'type': 'uri', 'value': 'http://es.dbpedia.org/resource/Günter_Grass'}, {'type': 'uri', 'value': 'http://data.europa.eu/euodp/jrc-names/G%C3%BCnter_Grass'}, {'type': 'uri', 'value': 'http://eu.dbpedia.org/resource/Günter_Grass'}, {'type': 'uri', 'value': 'http://nl.dbpedia.org/resource/Günter_Grass'}, {'type': 'uri', 'value': 'http://ko.dbpedia.org/resource/귄터_그라스'}, {'type': 'uri', 'value': 'http://id.dbpedia.org/resource/Günter_Grass'}], 'http://purl.org/dc/terms/subject': [{'type': 'uri', 'value': 'http://dbpedia.org/resource/Category:21st-century_German_novelists'}, {'type': 'uri', 'value': 'http://dbpedia.org/resource/Category:German_Nobel_laureates'}, {'type': 'uri', 'value': 'http://dbpedia.org/resource/Category:German_male_dramatists_and_playwrights'}, {'type': 'uri', 'value': 'http://dbpedia.org/resource/Category:People_from_the_Free_City_of_Danzig'}, {'type': 'uri', 'value': 'http://dbpedia.org/resource/Category:German_dramatists_and_playwrights'}, {'type': 'uri', 'value': 'http://dbpedia.org/resource/Category:20th-century_German_novelists'}, {'type': 'uri', 'value': 'http://dbpedia.org/resource/Category:20th-century_essayists'}, {'type': 'uri', 'value': 'http://dbpedia.org/resource/Category:German_refugees'}, {'type': 'uri', 'value': 'http://dbpedia.org/resource/Category:Male_essayists'}, {'type': 'uri', 'value': 'http://dbpedia.org/resource/Category:1927_births'}, {'type': 'uri', 'value': 'http://dbpedia.org/resource/Category:German_essayists'}, {'type': 'uri', 'value': 'http://dbpedia.org/resource/Category:Kashubian_poets'}, {'type': 'uri', 'value': 'http://dbpedia.org/resource/Category:SS_soldiers'}, {'type': 'uri', 'value': 'http://dbpedia.org/resource/Category:German-language_poets'}, {'type': 'uri', 'value': 'http://dbpedia.org/resource/Category:Nobel_laureates_in_Literature'}, {'type': 'uri', 'value': 'http://dbpedia.org/resource/Category:2015_deaths'}, {'type': 'uri', 'value': 'http://dbpedia.org/resource/Category:German_memoirists'}, {'type': 'uri', 'value': 'http://dbpedia.org/resource/Category:21st-century_essayists'}, {'type': 'uri', 'value': 'http://dbpedia.org/resource/Category:German_Roman_Catholics'}, {'type': 'uri', 'value': 'http://dbpedia.org/resource/Category:Fellows_of_the_Royal_Society_of_Literature'}, {'type': 'uri', 'value': 'http://dbpedia.org/resource/Category:20th-century_dramatists_and_playwrights'}, {'type': 'uri', 'value': 'http://dbpedia.org/resource/Category:Members_of_the_Academy_of_the_Arts,_Berlin'}, {'type': 'uri', 'value': 'http://dbpedia.org/resource/Category:German_people_of_Kashubian_descent'}, {'type': 'uri', 'value': 'http://dbpedia.org/resource/Category:Kunstakademie_Düsseldorf_alumni'}, {'type': 'uri', 'value': 'http://dbpedia.org/resource/Category:German_autobiographers'}, {'type': 'uri', 'value': 'http://dbpedia.org/resource/Category:Naturalized_citizens_of_Germany'}, {'type': 'uri', 'value': 'http://dbpedia.org/resource/Category:Waffen-SS_personnel'}, {'type': 'uri', 'value': 'http://dbpedia.org/resource/Category:Georg_Büchner_Prize_winners'}, {'type': 'uri', 'value': 'http://dbpedia.org/resource/Category:20th-century_German_poets'}, {'type': 'uri', 'value': 'http://dbpedia.org/resource/Category:Writers_who_illustrated_their_own_writing'}, {'type': 'uri', 'value': 'http://dbpedia.org/resource/Category:German_sculptors'}, {'type': 'uri', 'value': 'http://dbpedia.org/resource/Category:20th-century_German_sculptors'}, {'type': 'uri', 'value': 'http://dbpedia.org/resource/Category:German_socialists'}, {'type': 'uri', 'value': 'http://dbpedia.org/resource/Category:21st-century_German_poets'}, {'type': 'uri', 'value': 'http://dbpedia.org/resource/Category:German_prisoners_of_war_in_World_War_II'}, {'type': 'uri', 'value': 'http://dbpedia.org/resource/Category:World_War_II_prisoners_of_war_held_by_the_United_States'}, {'type': 'uri', 'value': 'http://dbpedia.org/resource/Category:Magic_realism_writers'}, {'type': 'uri', 'value': 'http://dbpedia.org/resource/Category:German_male_novelists'}, {'type': 'uri', 'value': 'http://dbpedia.org/resource/Category:German_male_poets'}], 'http://xmlns.com/foaf/0.1/name': [{'type': 'literal', 'value': 'Günter Grass', 'lang': 'en'}], 'http://xmlns.com/foaf/0.1/depiction': [{'type': 'uri', 'value': 'http://commons.wikimedia.org/wiki/Special:FilePath/Günter_Grass_auf_dem_Blauen_Sofa.jpg'}], 'http://purl.org/dc/terms/description': [{'type': 'literal', 'value': 'German novelist, poet, playwright, illustrator, graphic artist, sculptor', 'lang': 'en'}], 'http://xmlns.com/foaf/0.1/givenName': [{'type': 'literal', 'value': 'Günter', 'lang': 'en'}], 'http://xmlns.com/foaf/0.1/gender': [{'type': 'literal', 'value': 'male', 'lang': 'en'}], 'http://xmlns.com/foaf/0.1/isPrimaryTopicOf': [{'type': 'uri', 'value': 'http://en.wikipedia.org/wiki/Günter_Grass'}], 'http://xmlns.com/foaf/0.1/surname': [{'type': 'literal', 'value': 'Grass', 'lang': 'en'}], 'http://dbpedia.org/property/years': [{'type': 'literal', 'value': 2012, 'datatype': 'http://www.w3.org/2001/XMLSchema#integer'}], 'http://dbpedia.org/property/after': [{'type': 'literal', 'value': 'Emmelie de Forest', 'datatype': 'http://www.w3.org/1999/02/22-rdf-syntax-ns#langString'}], 'http://dbpedia.org/ontology/notableWork': [{'type': 'uri', 'value': 'http://dbpedia.org/resource/The_Tin_Drum'}, {'type': 'uri', 'value': 'http://dbpedia.org/resource/Crabwalk'}, {'type': 'uri', 'value': 'http://dbpedia.org/resource/Dog_Years_(novel)'}, {'type': 'uri', 'value': 'http://dbpedia.org/resource/What_Must_Be_Said'}, {'type': 'uri', 'value': 'http://dbpedia.org/resource/Cat_and_Mouse_(novella)'}], 'http://www.w3.org/ns/prov#wasDerivedFrom': [{'type': 'uri', 'value': 'http://en.wikipedia.org/wiki/Günter_Grass?oldid=744781559'}], 'http://dbpedia.org/ontology/wikiPageExternalLink': [{'type': 'uri', 'value': 'http://www.gdansk-life.com/poland/gunter-grass'}, {'type': 'uri', 'value': 'http://www.guardian.co.uk/secondworldwar/story/0,,1843187,00.html'}], 'http://dbpedia.org/property/caption': [{'type': 'literal', 'value': 'Günter Grass in 2006', 'datatype': 'http://www.w3.org/1999/02/22-rdf-syntax-ns#langString'}], 'http://dbpedia.org/ontology/birthName': [{'type': 'literal', 'value': 'Günter Wilhelm Graß', 'lang': 'en'}], 'http://dbpedia.org/ontology/occupation': [{'type': 'uri', 'value': 'http://dbpedia.org/resource/Graphic_designer'}], 'http://dbpedia.org/ontology/activeYearsStartYear': [{'type': 'literal', 'value': '1956', 'datatype': 'http://www.w3.org/2001/XMLSchema#gYear'}], 'http://dbpedia.org/ontology/activeYearsEndYear': [{'type': 'literal', 'value': '2013', 'datatype': 'http://www.w3.org/2001/XMLSchema#gYear'}], 'http://dbpedia.org/ontology/movement': [{'type': 'uri', 'value': 'http://dbpedia.org/resource/Vergangenheitsbewältigung'}], 'http://dbpedia.org/property/before': [{'type': 'literal', 'value': 'Henrik, Prince of Denmark', 'datatype': 'http://www.w3.org/1999/02/22-rdf-syntax-ns#langString'}], 'http://dbpedia.org/ontology/language': [{'type': 'uri', 'value': 'http://dbpedia.org/resource/German_language'}], 'http://dbpedia.org/property/signature': [{'type': 'literal', 'value': 'Günter Grass signature new.svg', 'datatype': 'http://www.w3.org/1999/02/22-rdf-syntax-ns#langString'}], 'http://dbpedia.org/ontology/abstract': [{'type': 'literal', 'value': 'ギュンター・グラス（Günter Grass, 1927年10月16日 - 2015年4月13日）は、ドイツの小説家、劇作家、版画家、彫刻家。代表作に『ブリキの太鼓』など。1999年にノーベル文学賞受賞。', 'lang': 'ja'}, {'type': 'literal', 'value': 'Günter Wilhelm Grass (ur. 16 października 1927 w Gdańsku, zm. 13 kwietnia 2015 w Lubece) – niemiecki pisarz narodowości niemiecko-kaszubskiej, laureat Nagrody Nobla w dziedzinie literatury w 1999 roku. Doktor honoris causa Uniwersytetu Gdańskiego (za wybitną twórczość literacką oraz wkład w polsko-niemieckie pojednanie) oraz Uniwersytetu im. Adama Mickiewicza w Poznaniu. W 1993 Rada Miasta przyznała pisarzowi tytuł Honorowego Obywatela Miasta Gdańska.', 'lang': 'pl'}, {'type': 'literal', 'value': 'Günter Wilhelm Grass (German: [ˈɡʏntɐ ˈɡʁas]; 16 October 1927 – 13 April 2015) was a German novelist, poet, playwright, illustrator, graphic artist, sculptor, and recipient of the 1999 Nobel Prize in Literature. He was born in the Free City of Danzig (now Gdańsk, Poland). As a teenager, he served as a drafted soldier from late 1944 in the Waffen-SS, and was taken prisoner of war by U.S. forces at the end of the war in May 1945. He was released in April 1946. Trained as a stonemason and sculptor, Grass began writing in the 1950s. In his fiction, he frequently returned to the Danzig of his childhood. Grass is best known for his first novel, The Tin Drum (1959), a key text in European magic realism. It was the first book of his Danzig Trilogy, the other two being Cat and Mouse and Dog Years. His works are frequently considered to have a left-wing political dimension, and Grass was an active supporter of the Social Democratic Party of Germany (SPD). The Tin Drum was adapted as a film of the same name, which won both the 1979 Palme d\\'Or and the Academy Award for Best Foreign Language Film. In 1999, the Swedish Academy awarded him the Nobel Prize in Literature, praising him as a writer \"whose frolicsome black fables portray the forgotten face of history\".', 'lang': 'en'}, {'type': 'literal', 'value': 'Günter Wilhelm Grass (Danzig, 16 de outubro de 1927 – Lübeck, 13 de abril de 2015) foi um autor, romancista, dramaturgo, poeta, intelectual, e artista plástico alemão. Sua obra alternou a atividade literária com a escultura, enquanto participava de forma ativa da vida pública de seu país. Recebeu o Nobel de Literatura de 1999. Também é reconhecido como um dos principais representantes do teatro do absurdo da Alemanha. Seu nome é por vezes grafado Günter Graß.', 'lang': 'pt'}, {'type': 'literal', 'value': 'غونتر غراس (بالألمانية: Günter Grass) أديب ألماني (16 أكتوبر 1927 - 13 أبريل 2015) ولد في في مدينة دانتسيغ (ضمت إلى بولندا بعد الحرب العالمية الثانية). شارك غونتر غراس سنة 1944 في الحرب العالمية الثانية كمساعد في سلاح الطيران الألماني. وبعد انتهاء الحرب وقع سنة 1946 في أسر القوات الأمريكية إلى أن أطلق سراحه في نفس السنة. يعد غونتر غراس أحد أهم الأدباء الألمان في فترة ما بعد الحرب العالمية الثانية, حاز على جائزة نوبل للآداب سنة 1999.عاش آخر أيامه بالقرب من مدينة لوبيك في شمال ألمانيا.', 'lang': 'ar'}, {'type': 'literal', 'value': 'Günter Wilhelm Grass (Ciudad libre de Dánzig, actual Polonia, 16 de octubre de 1927 - Lübeck, Alemania, 13 de abril de 2015) fue un escritor y artista alemán, galardonado con el Premio Nobel de Literatura y el Premio Príncipe de Asturias de las Letras, en 1999.', 'lang': 'es'}, {'type': 'literal', 'value': '君特·威廉·格拉斯（Günter Wilhelm Grass，1927年10月16日－2015年4月13日）是德國作家，出生於但澤自由市（今日波蘭格但斯克），也是1999年諾貝爾文學獎得主。他被廣泛的視是德國最有名的作家之一。他於1965年獲得格奧爾格·畢希納獎（Georg Büchner Prize），並於1993年被選為英國皇家文學會榮譽院士，他在1995年獲得赫爾曼·凱斯滕獎。 君特·威廉·格拉斯最著名的作品是《铁皮鼓》，它是欧洲魔幻现实主义的代表作品，也是但澤三部曲的第一部作品（另外兩部作品是《貓與老鼠》與《狗年月》）。他的作品具有浓厚的政治色彩，被視為有左翼作家，而他也是德国社会民主党的支持者。瑞典皇家科學院授予他1999年諾貝爾文學獎，認為他「以嬉戲中蘊含悲劇色彩的寓言描摹出了人類淡忘的歷史面目。」', 'lang': 'zh'}, {'type': 'literal', 'value': 'Гюнтер Грасс (нем. Günter Grass или Graß [ˈɡʏntɐ ˈɡʀas]; 16 октября 1927, Вольный город Данциг — 13 апреля 2015, Любек, Германия) — немецкий писатель, скульптор, художник, график, лауреат Нобелевской премии по литературе 1999 года.', 'lang': 'ru'}, {'type': 'literal', 'value': 'Günter Wilhelm Grass (Danzig-Langfuhr, 16 oktober 1927 – Lübeck, 13 april 2015) was een Duitse schrijver en beeldend kunstenaar van Duits-Kasjoebische afkomst. In 1999 ontving hij de Nobelprijs voor de Literatuur.', 'lang': 'nl'}, {'type': 'literal', 'value': \"Günter Wilhelm Grass, né le 16 octobre 1927 à Danzig-Langfuhr et mort le 13 avril 2015 à Lübeck, est un écrivain et artiste allemand. Lauréat du prix Nobel de littérature en 1999, Grass est principalement connu pour son roman Le Tambour. Marquée par l'expérience traumatique du nazisme, son œuvre, baroque et ironique, puise son inspiration dans son origine germano-polonaise et condense réalisme et mythe afin d'explorer les méandres de l'Histoire, la mémoire et la culpabilité. Considéré comme l'un des plus grands écrivains allemands contemporains et le plus célèbre auteur germanophone de la seconde moitié du XXe siècle, il est aussi remarqué pour ses prises de positions politiques à l'origine de nombreuses controverses en Allemagne et à l'international.\", 'lang': 'fr'}, {'type': 'literal', 'value': 'Günter Wilhelm Grass (* 16. Oktober 1927 in Danzig-Langfuhr, Freie Stadt Danzig als Günter Wilhelm Graß; † 13. April 2015 in Lübeck) war ein deutscher Schriftsteller, Bildhauer, Maler und Grafiker. Grass gehörte seit 1957 zur Gruppe 47 und wurde mit seinem Debütroman Die Blechtrommel 1959 zu einem international geachteten Autor der deutschen Nachkriegsliteratur. Grass’ Werk und Rolle als Autor und politischer Intellektueller war und ist Gegenstand umfangreicher Forschung sowie des Medieninteresses im In- und Ausland. Seine zentrale Motivation war der Verlust seiner Heimat Danzig und die Auseinandersetzung mit der nationalsozialistischen Vergangenheit, die sich vielfach in seinen Werken widerspiegelt. Seine Popularität als Schriftsteller nutzte er häufig, um das politische und gesellschaftliche Tagesgeschehen öffentlich zu kommentieren. Er war langjährig in Wahlkämpfen für die SPD und die Grünen aktiv und präsent. Grass’ Bücher wurden in zahlreiche Sprachen übersetzt und teilweise verfilmt. Im Jahr 1999 erhielt er den Nobelpreis für Literatur, er wurde mit einer Vielzahl weiterer Auszeichnungen geehrt.', 'lang': 'de'}], 'http://dbpedia.org/ontology/thumbnail': [{'type': 'uri', 'value': 'http://commons.wikimedia.org/wiki/Special:FilePath/Günter_Grass_auf_dem_Blauen_Sofa.jpg?width=300'}], 'http://dbpedia.org/ontology/birthDate': [{'type': 'literal', 'value': '1927-10-16', 'datatype': 'http://www.w3.org/2001/XMLSchema#date'}], 'http://dbpedia.org/ontology/deathDate': [{'type': 'literal', 'value': '2015-04-13', 'datatype': 'http://www.w3.org/2001/XMLSchema#date'}, {'type': 'literal', 'value': '2015-4-13', 'datatype': 'http://www.w3.org/2001/XMLSchema#date'}], 'http://dbpedia.org/ontology/deathPlace': [{'type': 'uri', 'value': 'http://dbpedia.org/resource/Lübeck'}], 'http://dbpedia.org/ontology/wikiPageRevisionID': [{'type': 'literal', 'value': 744781559, 'datatype': 'http://www.w3.org/2001/XMLSchema#integer'}], 'http://dbpedia.org/ontology/birthPlace': [{'type': 'uri', 'value': 'http://dbpedia.org/resource/Free_City_of_Danzig'}, {'type': 'uri', 'value': 'http://dbpedia.org/resource/Wrzeszcz'}], 'http://dbpedia.org/ontology/wikiPageID': [{'type': 'literal', 'value': 23473348, 'datatype': 'http://www.w3.org/2001/XMLSchema#integer'}], 'http://purl.org/linguistics/gold/hypernym': [{'type': 'uri', 'value': 'http://dbpedia.org/resource/Novelist'}], 'http://dbpedia.org/property/title': [{'type': 'literal', 'value': 'European of the Year', 'datatype': 'http://www.w3.org/1999/02/22-rdf-syntax-ns#langString'}, {'type': 'literal', 'value': 'Awards received by Günter Grass', 'datatype': 'http://www.w3.org/1999/02/22-rdf-syntax-ns#langString'}], 'http://dbpedia.org/ontology/ethnicity': [{'type': 'uri', 'value': 'http://dbpedia.org/resource/German_language'}, {'type': 'uri', 'value': 'http://dbpedia.org/resource/Kashubians'}]}, 'http://dbpedia.org/resource/Mitch_Berman': {'http://dbpedia.org/ontology/influencedBy': [{'type': 'uri', 'value': 'http://dbpedia.org/resource/Günter_Grass'}]}, 'http://dbpedia.org/resource/Cat_and_Mouse_(novella)': {'http://dbpedia.org/ontology/coverArtist': [{'type': 'uri', 'value': 'http://dbpedia.org/resource/Günter_Grass'}], 'http://dbpedia.org/ontology/author': [{'type': 'uri', 'value': 'http://dbpedia.org/resource/Günter_Grass'}], 'http://dbpedia.org/ontology/illustrator': [{'type': 'uri', 'value': 'http://dbpedia.org/resource/Günter_Grass'}]}, 'http://dbpedia.org/resource/Dog_Years_(novel)': {'http://dbpedia.org/ontology/coverArtist': [{'type': 'uri', 'value': 'http://dbpedia.org/resource/Günter_Grass'}], 'http://dbpedia.org/ontology/author': [{'type': 'uri', 'value': 'http://dbpedia.org/resource/Günter_Grass'}]}, 'http://dbpedia.org/resource/Crabwalk': {'http://dbpedia.org/ontology/author': [{'type': 'uri', 'value': 'http://dbpedia.org/resource/Günter_Grass'}]}, 'http://dbpedia.org/resource/The_Call_of_the_Toad': {'http://dbpedia.org/ontology/author': [{'type': 'uri', 'value': 'http://dbpedia.org/resource/Günter_Grass'}]}, 'http://dbpedia.org/resource/List_of_people_declared_persona_non_grata': {'http://dbpedia.org/property/caption': [{'type': 'uri', 'value': 'http://dbpedia.org/resource/Günter_Grass'}]}, 'http://dbpedia.org/resource/The_Rat_(novel)': {'http://dbpedia.org/ontology/author': [{'type': 'uri', 'value': 'http://dbpedia.org/resource/Günter_Grass'}]}, 'http://dbpedia.org/resource/The_Tin_Drum': {'http://dbpedia.org/ontology/coverArtist': [{'type': 'uri', 'value': 'http://dbpedia.org/resource/Günter_Grass'}], 'http://dbpedia.org/ontology/author': [{'type': 'uri', 'value': 'http://dbpedia.org/resource/Günter_Grass'}]}, 'http://dbpedia.org/resource/The_Meeting_at_Telgte': {'http://dbpedia.org/ontology/author': [{'type': 'uri', 'value': 'http://dbpedia.org/resource/Günter_Grass'}]}, 'http://dbpedia.org/resource/The_Box_(Grass_book)': {'http://dbpedia.org/ontology/author': [{'type': 'uri', 'value': 'http://dbpedia.org/resource/Günter_Grass'}]}, 'http://dbpedia.org/resource/Local_Anaesthetic_(novel)': {'http://dbpedia.org/ontology/author': [{'type': 'uri', 'value': 'http://dbpedia.org/resource/Günter_Grass'}]}, 'http://dbpedia.org/resource/What_Must_Be_Said': {'http://dbpedia.org/property/author': [{'type': 'uri', 'value': 'http://dbpedia.org/resource/Günter_Grass'}]}, 'http://dbpedia.org/resource/The_Flounder': {'http://dbpedia.org/ontology/author': [{'type': 'uri', 'value': 'http://dbpedia.org/resource/Günter_Grass'}]}, 'http://dbpedia.org/resource/Guenter_Grass': {'http://dbpedia.org/ontology/wikiPageRedirects': [{'type': 'uri', 'value': 'http://dbpedia.org/resource/Günter_Grass'}]}, 'http://dbpedia.org/resource/Grass_(disambiguation)': {'http://dbpedia.org/ontology/wikiPageDisambiguates': [{'type': 'uri', 'value': 'http://dbpedia.org/resource/Günter_Grass'}]}, 'http://dbpedia.org/resource/Guenther_Grass': {'http://dbpedia.org/ontology/wikiPageRedirects': [{'type': 'uri', 'value': 'http://dbpedia.org/resource/Günter_Grass'}]}, 'http://dbpedia.org/resource/Pramoedya_Ananta_Toer': {'http://dbpedia.org/ontology/influencedBy': [{'type': 'uri', 'value': 'http://dbpedia.org/resource/Günter_Grass'}]}, 'http://dbpedia.org/resource/Gunter_Grass': {'http://dbpedia.org/ontology/wikiPageRedirects': [{'type': 'uri', 'value': 'http://dbpedia.org/resource/Günter_Grass'}]}, 'http://dbpedia.org/resource/Gunther_Wilhelm_Grass': {'http://dbpedia.org/ontology/wikiPageRedirects': [{'type': 'uri', 'value': 'http://dbpedia.org/resource/Günter_Grass'}]}, 'http://dbpedia.org/resource/Günther_Grass': {'http://dbpedia.org/ontology/wikiPageRedirects': [{'type': 'uri', 'value': 'http://dbpedia.org/resource/Günter_Grass'}]}}\n"
     ]
    }
   ],
   "source": [
    "#separo a url em cada '/'\n",
    "url = url_grass.split(\"/\")\n",
    "\n",
    "# na lista recebida o nome do autor esta na ultima posicao,\n",
    "# salvo a ultima posicao na variavel autor\n",
    "autor = url[-1]\n",
    "print(\"Nome do Autor:\\t \",autor)\n",
    "\n",
    "teste = url_grass\n",
    "teste = teste.replace(\"resource\", \"data\")\n",
    "teste = teste + \".json\"\n",
    "\n",
    "print(\"URL:\\t\\t \",teste+\"\\n\")\n",
    "\n",
    "js_grass = requests.get(teste)\n",
    "js_grass = js_grass.json()\n",
    "print(\"Conteudo Json: \\n\",js_grass)\n"
   ]
  },
  {
   "cell_type": "markdown",
   "metadata": {},
   "source": [
    "## Tarefa\n",
    "### Quais os livros escritos por Günter Grass?"
   ]
  },
  {
   "cell_type": "code",
   "execution_count": 5,
   "metadata": {},
   "outputs": [
    {
     "name": "stdout",
     "output_type": "stream",
     "text": [
      "Günter_Grass - A tarefa foi alterada para nao todos os livros, mas apenas -> NotableWorks\n",
      " -   The_Tin_Drum\n",
      " -   Crabwalk\n",
      " -   Dog_Years_(novel)\n",
      " -   What_Must_Be_Said\n",
      " -   Cat_and_Mouse_(novella)\n"
     ]
    }
   ],
   "source": [
    "print(\"G\\u00FCnter_Grass - A tarefa foi alterada, exibir apenas -> NotableWorks\")\n",
    "for x in range(len(js_grass[\"http://dbpedia.org/resource/G\\u00FCnter_Grass\"][\"http://dbpedia.org/ontology/notableWork\"])):\n",
    "    livro = js_grass[\"http://dbpedia.org/resource/G\\u00FCnter_Grass\"][\"http://dbpedia.org/ontology/notableWork\"][x]['value'].split(\"/\")\n",
    "    print(\" -  \", livro[-1])"
   ]
  },
  {
   "cell_type": "markdown",
   "metadata": {},
   "source": [
    "# MeSH - Medical Subject Headings\n",
    "\n",
    "## Pesquisa para humanos\n",
    "\n",
    "Através do endereço [MeSH Search](https://meshb.nlm.nih.gov/search).\n",
    "\n",
    "Procure o termo: Myocardial Infarction.\n",
    "\n",
    "## Serviços para Máquinas\n",
    "\n",
    "É possível acessar os mesmos dados pela [API JSON](https://id.nlm.nih.gov/mesh/swagger/ui).\n",
    "\n",
    "Buscando o código de Myocardial Infarction:"
   ]
  },
  {
   "cell_type": "code",
   "execution_count": 4,
   "metadata": {},
   "outputs": [
    {
     "name": "stdout",
     "output_type": "stream",
     "text": [
      "[{\"resource\":\"http://id.nlm.nih.gov/mesh/D009203\",\"label\":\"Myocardial Infarction\"}]\n"
     ]
    }
   ],
   "source": [
    "url_mi = \"https://id.nlm.nih.gov/mesh/lookup/descriptor?label=Myocardial%20Infarction&match=exact&limit=10\"\n",
    "js_mi = requests.get(url_mi)\n",
    "print(js_mi.content.decode(\"utf-8\"))"
   ]
  },
  {
   "cell_type": "markdown",
   "metadata": {},
   "source": [
    "Acessando detalhes a partir do código:"
   ]
  },
  {
   "cell_type": "code",
   "execution_count": 5,
   "metadata": {},
   "outputs": [
    {
     "name": "stdout",
     "output_type": "stream",
     "text": [
      "{\"descriptor\":\"http://id.nlm.nih.gov/mesh/D009203\",\"terms\":[{\"resource\":\"http://id.nlm.nih.gov/mesh/T027447\",\"label\":\"Myocardial Infarction\",\"preferred\":true},{\"resource\":\"http://id.nlm.nih.gov/mesh/T855594\",\"label\":\"Cardiovascular Stroke\",\"preferred\":false},{\"resource\":\"http://id.nlm.nih.gov/mesh/T000866941\",\"label\":\"Heart Attack\",\"preferred\":false},{\"resource\":\"http://id.nlm.nih.gov/mesh/T027448\",\"label\":\"Myocardial Infarct\",\"preferred\":false}],\"qualifiers\":[{\"resource\":\"http://id.nlm.nih.gov/mesh/Q000097\",\"label\":\"blood\"},{\"resource\":\"http://id.nlm.nih.gov/mesh/Q000134\",\"label\":\"cerebrospinal fluid\"},{\"resource\":\"http://id.nlm.nih.gov/mesh/Q000139\",\"label\":\"chemically induced\"},{\"resource\":\"http://id.nlm.nih.gov/mesh/Q000145\",\"label\":\"classification\"},{\"resource\":\"http://id.nlm.nih.gov/mesh/Q000150\",\"label\":\"complications\"},{\"resource\":\"http://id.nlm.nih.gov/mesh/Q000151\",\"label\":\"congenital\"},{\"resource\":\"http://id.nlm.nih.gov/mesh/Q000175\",\"label\":\"diagnosis\"},{\"resource\":\"http://id.nlm.nih.gov/mesh/Q000000981\",\"label\":\"diagnostic imaging\"},{\"resource\":\"http://id.nlm.nih.gov/mesh/Q000178\",\"label\":\"diet therapy\"},{\"resource\":\"http://id.nlm.nih.gov/mesh/Q000188\",\"label\":\"drug therapy\"},{\"resource\":\"http://id.nlm.nih.gov/mesh/Q000191\",\"label\":\"economics\"},{\"resource\":\"http://id.nlm.nih.gov/mesh/Q000196\",\"label\":\"embryology\"},{\"resource\":\"http://id.nlm.nih.gov/mesh/Q000201\",\"label\":\"enzymology\"},{\"resource\":\"http://id.nlm.nih.gov/mesh/Q000453\",\"label\":\"epidemiology\"},{\"resource\":\"http://id.nlm.nih.gov/mesh/Q000208\",\"label\":\"ethnology\"},{\"resource\":\"http://id.nlm.nih.gov/mesh/Q000209\",\"label\":\"etiology\"},{\"resource\":\"http://id.nlm.nih.gov/mesh/Q000235\",\"label\":\"genetics\"},{\"resource\":\"http://id.nlm.nih.gov/mesh/Q000266\",\"label\":\"history\"},{\"resource\":\"http://id.nlm.nih.gov/mesh/Q000276\",\"label\":\"immunology\"},{\"resource\":\"http://id.nlm.nih.gov/mesh/Q000378\",\"label\":\"metabolism\"},{\"resource\":\"http://id.nlm.nih.gov/mesh/Q000382\",\"label\":\"microbiology\"},{\"resource\":\"http://id.nlm.nih.gov/mesh/Q000401\",\"label\":\"mortality\"},{\"resource\":\"http://id.nlm.nih.gov/mesh/Q000451\",\"label\":\"nursing\"},{\"resource\":\"http://id.nlm.nih.gov/mesh/Q000469\",\"label\":\"parasitology\"},{\"resource\":\"http://id.nlm.nih.gov/mesh/Q000473\",\"label\":\"pathology\"},{\"resource\":\"http://id.nlm.nih.gov/mesh/Q000503\",\"label\":\"physiopathology\"},{\"resource\":\"http://id.nlm.nih.gov/mesh/Q000517\",\"label\":\"prevention & control\"},{\"resource\":\"http://id.nlm.nih.gov/mesh/Q000523\",\"label\":\"psychology\"},{\"resource\":\"http://id.nlm.nih.gov/mesh/Q000532\",\"label\":\"radiotherapy\"},{\"resource\":\"http://id.nlm.nih.gov/mesh/Q000534\",\"label\":\"rehabilitation\"},{\"resource\":\"http://id.nlm.nih.gov/mesh/Q000601\",\"label\":\"surgery\"},{\"resource\":\"http://id.nlm.nih.gov/mesh/Q000628\",\"label\":\"therapy\"},{\"resource\":\"http://id.nlm.nih.gov/mesh/Q000652\",\"label\":\"urine\"},{\"resource\":\"http://id.nlm.nih.gov/mesh/Q000662\",\"label\":\"veterinary\"},{\"resource\":\"http://id.nlm.nih.gov/mesh/Q000821\",\"label\":\"virology\"}],\"seealso\":[{\"resource\":\"http://id.nlm.nih.gov/mesh/D006342\",\"label\":\"Heart Rupture, Post-Infarction\"}]}\n"
     ]
    }
   ],
   "source": [
    "url_mid = \"https://id.nlm.nih.gov/mesh/lookup/details?descriptor=D009203\"\n",
    "js_mid = requests.get(url_mid)\n",
    "print(js_mid.content.decode(\"utf-8\"))"
   ]
  },
  {
   "cell_type": "markdown",
   "metadata": {},
   "source": [
    "## Tarefa\n",
    "### Quais os termos usados para Aspirina (consulta JSON/MeSH em Python)?"
   ]
  },
  {
   "cell_type": "code",
   "execution_count": 8,
   "metadata": {},
   "outputs": [
    {
     "name": "stdout",
     "output_type": "stream",
     "text": [
      "http://id.nlm.nih.gov/mesh/D001241\n",
      "D001241\n",
      "https://id.nlm.nih.gov/mesh/lookup/details?descriptor=D001241\n",
      "Aspirin\n",
      "2-(Acetyloxy)benzoic Acid\n",
      "Acetylsalicylic Acid\n",
      "Acetysal\n",
      "Acylpyrin\n",
      "Aloxiprimum\n",
      "Colfarit\n",
      "Dispril\n",
      "Easprin\n",
      "Ecotrin\n",
      "Endosprin\n",
      "Magnecyl\n",
      "Micristin\n",
      "Polopirin\n",
      "Polopiryna\n",
      "Solprin\n",
      "Solupsan\n",
      "Zorprin\n"
     ]
    }
   ],
   "source": [
    "url_mesh = \"https://id.nlm.nih.gov/mesh/lookup/descriptor?label=Aspirin\"\n",
    "js_mesh = requests.get(url_mesh)\n",
    "js_mesh = js_mesh.json()\n",
    "\n",
    "## Recebo uma url com o codigo referente a minha busca = Aspirin, codigo = D001241\n",
    "print(js_mesh[0][\"resource\"])\n",
    "\n",
    "## divido a string em cada barra, a ultima posicao é o código\n",
    "codigo = js_mesh[0][\"resource\"].split(\"/\")\n",
    "codigo = codigo[-1]\n",
    "## printo o código\n",
    "print(codigo)\n",
    "\n",
    "#crio a nova url com o código de busca\n",
    "new_url = \"https://id.nlm.nih.gov/mesh/lookup/details?descriptor=\"+codigo\n",
    "print(new_url)\n",
    "\n",
    "## faço o request e transformo em json\n",
    "js_mesh = requests.get(new_url)\n",
    "js_mesh = js_mesh.json()\n",
    "\n",
    "## exibo cada termo usado para Aspirina atraves de um laço for.\n",
    "for x in range(len(js_mesh[\"terms\"])):\n",
    "    print(js_mesh[\"terms\"][x][\"label\"])\n"
   ]
  },
  {
   "cell_type": "code",
   "execution_count": null,
   "metadata": {},
   "outputs": [],
   "source": []
  }
 ],
 "metadata": {
  "kernelspec": {
   "display_name": "Python 3",
   "language": "python",
   "name": "python3"
  },
  "language_info": {
   "codemirror_mode": {
    "name": "ipython",
    "version": 3
   },
   "file_extension": ".py",
   "mimetype": "text/x-python",
   "name": "python",
   "nbconvert_exporter": "python",
   "pygments_lexer": "ipython3",
   "version": "3.7.8"
  },
  "toc": {
   "base_numbering": 1,
   "nav_menu": {},
   "number_sections": false,
   "sideBar": false,
   "skip_h1_title": false,
   "title_cell": "Table of Contents",
   "title_sidebar": "Contents",
   "toc_cell": false,
   "toc_position": {},
   "toc_section_display": false,
   "toc_window_display": false
  }
 },
 "nbformat": 4,
 "nbformat_minor": 4
}
